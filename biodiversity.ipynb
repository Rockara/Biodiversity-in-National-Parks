{
 "cells": [
  {
   "cell_type": "code",
   "execution_count": 1,
   "metadata": {},
   "outputs": [],
   "source": [
    "import pandas as pd\n",
    "from matplotlib import pyplot as plt\n",
    "import seaborn as sns\n",
    "import numpy as np\n",
    "from scipy.stats import chi2_contingency"
   ]
  },
  {
   "cell_type": "code",
   "execution_count": 2,
   "metadata": {},
   "outputs": [],
   "source": [
    "obs = pd.read_csv('observations.csv', encoding='utf-8')\n",
    "species = pd.read_csv('species_info.csv', encoding='utf-8')"
   ]
  },
  {
   "cell_type": "code",
   "execution_count": 3,
   "metadata": {},
   "outputs": [
    {
     "data": {
      "text/html": [
       "<div>\n",
       "<style scoped>\n",
       "    .dataframe tbody tr th:only-of-type {\n",
       "        vertical-align: middle;\n",
       "    }\n",
       "\n",
       "    .dataframe tbody tr th {\n",
       "        vertical-align: top;\n",
       "    }\n",
       "\n",
       "    .dataframe thead th {\n",
       "        text-align: right;\n",
       "    }\n",
       "</style>\n",
       "<table border=\"1\" class=\"dataframe\">\n",
       "  <thead>\n",
       "    <tr style=\"text-align: right;\">\n",
       "      <th></th>\n",
       "      <th>scientific_name</th>\n",
       "      <th>park_name</th>\n",
       "      <th>observations</th>\n",
       "    </tr>\n",
       "  </thead>\n",
       "  <tbody>\n",
       "    <tr>\n",
       "      <th>0</th>\n",
       "      <td>Vicia benghalensis</td>\n",
       "      <td>Great Smoky Mountains National Park</td>\n",
       "      <td>68</td>\n",
       "    </tr>\n",
       "    <tr>\n",
       "      <th>1</th>\n",
       "      <td>Neovison vison</td>\n",
       "      <td>Great Smoky Mountains National Park</td>\n",
       "      <td>77</td>\n",
       "    </tr>\n",
       "    <tr>\n",
       "      <th>2</th>\n",
       "      <td>Prunus subcordata</td>\n",
       "      <td>Yosemite National Park</td>\n",
       "      <td>138</td>\n",
       "    </tr>\n",
       "    <tr>\n",
       "      <th>3</th>\n",
       "      <td>Abutilon theophrasti</td>\n",
       "      <td>Bryce National Park</td>\n",
       "      <td>84</td>\n",
       "    </tr>\n",
       "    <tr>\n",
       "      <th>4</th>\n",
       "      <td>Githopsis specularioides</td>\n",
       "      <td>Great Smoky Mountains National Park</td>\n",
       "      <td>85</td>\n",
       "    </tr>\n",
       "  </tbody>\n",
       "</table>\n",
       "</div>"
      ],
      "text/plain": [
       "            scientific_name                            park_name  observations\n",
       "0        Vicia benghalensis  Great Smoky Mountains National Park            68\n",
       "1            Neovison vison  Great Smoky Mountains National Park            77\n",
       "2         Prunus subcordata               Yosemite National Park           138\n",
       "3      Abutilon theophrasti                  Bryce National Park            84\n",
       "4  Githopsis specularioides  Great Smoky Mountains National Park            85"
      ]
     },
     "execution_count": 3,
     "metadata": {},
     "output_type": "execute_result"
    }
   ],
   "source": [
    "obs.head()"
   ]
  },
  {
   "cell_type": "code",
   "execution_count": 4,
   "metadata": {},
   "outputs": [
    {
     "data": {
      "text/html": [
       "<div>\n",
       "<style scoped>\n",
       "    .dataframe tbody tr th:only-of-type {\n",
       "        vertical-align: middle;\n",
       "    }\n",
       "\n",
       "    .dataframe tbody tr th {\n",
       "        vertical-align: top;\n",
       "    }\n",
       "\n",
       "    .dataframe thead th {\n",
       "        text-align: right;\n",
       "    }\n",
       "</style>\n",
       "<table border=\"1\" class=\"dataframe\">\n",
       "  <thead>\n",
       "    <tr style=\"text-align: right;\">\n",
       "      <th></th>\n",
       "      <th>category</th>\n",
       "      <th>scientific_name</th>\n",
       "      <th>common_names</th>\n",
       "      <th>conservation_status</th>\n",
       "    </tr>\n",
       "  </thead>\n",
       "  <tbody>\n",
       "    <tr>\n",
       "      <th>0</th>\n",
       "      <td>Mammal</td>\n",
       "      <td>Clethrionomys gapperi gapperi</td>\n",
       "      <td>Gapper's Red-Backed Vole</td>\n",
       "      <td>NaN</td>\n",
       "    </tr>\n",
       "    <tr>\n",
       "      <th>1</th>\n",
       "      <td>Mammal</td>\n",
       "      <td>Bos bison</td>\n",
       "      <td>American Bison, Bison</td>\n",
       "      <td>NaN</td>\n",
       "    </tr>\n",
       "    <tr>\n",
       "      <th>2</th>\n",
       "      <td>Mammal</td>\n",
       "      <td>Bos taurus</td>\n",
       "      <td>Aurochs, Aurochs, Domestic Cattle (Feral), Dom...</td>\n",
       "      <td>NaN</td>\n",
       "    </tr>\n",
       "    <tr>\n",
       "      <th>3</th>\n",
       "      <td>Mammal</td>\n",
       "      <td>Ovis aries</td>\n",
       "      <td>Domestic Sheep, Mouflon, Red Sheep, Sheep (Feral)</td>\n",
       "      <td>NaN</td>\n",
       "    </tr>\n",
       "    <tr>\n",
       "      <th>4</th>\n",
       "      <td>Mammal</td>\n",
       "      <td>Cervus elaphus</td>\n",
       "      <td>Wapiti Or Elk</td>\n",
       "      <td>NaN</td>\n",
       "    </tr>\n",
       "  </tbody>\n",
       "</table>\n",
       "</div>"
      ],
      "text/plain": [
       "  category                scientific_name  \\\n",
       "0   Mammal  Clethrionomys gapperi gapperi   \n",
       "1   Mammal                      Bos bison   \n",
       "2   Mammal                     Bos taurus   \n",
       "3   Mammal                     Ovis aries   \n",
       "4   Mammal                 Cervus elaphus   \n",
       "\n",
       "                                        common_names conservation_status  \n",
       "0                           Gapper's Red-Backed Vole                 NaN  \n",
       "1                              American Bison, Bison                 NaN  \n",
       "2  Aurochs, Aurochs, Domestic Cattle (Feral), Dom...                 NaN  \n",
       "3  Domestic Sheep, Mouflon, Red Sheep, Sheep (Feral)                 NaN  \n",
       "4                                      Wapiti Or Elk                 NaN  "
      ]
     },
     "execution_count": 4,
     "metadata": {},
     "output_type": "execute_result"
    }
   ],
   "source": [
    "species.head()"
   ]
  },
  {
   "cell_type": "code",
   "execution_count": 5,
   "metadata": {
    "scrolled": true
   },
   "outputs": [
    {
     "name": "stdout",
     "output_type": "stream",
     "text": [
      "['Mammal' 'Bird' 'Reptile' 'Amphibian' 'Fish' 'Vascular Plant'\n",
      " 'Nonvascular Plant']\n"
     ]
    }
   ],
   "source": [
    "print(species.category.unique())"
   ]
  },
  {
   "cell_type": "code",
   "execution_count": 6,
   "metadata": {
    "scrolled": true
   },
   "outputs": [
    {
     "data": {
      "text/html": [
       "<div>\n",
       "<style scoped>\n",
       "    .dataframe tbody tr th:only-of-type {\n",
       "        vertical-align: middle;\n",
       "    }\n",
       "\n",
       "    .dataframe tbody tr th {\n",
       "        vertical-align: top;\n",
       "    }\n",
       "\n",
       "    .dataframe thead th {\n",
       "        text-align: right;\n",
       "    }\n",
       "</style>\n",
       "<table border=\"1\" class=\"dataframe\">\n",
       "  <thead>\n",
       "    <tr style=\"text-align: right;\">\n",
       "      <th></th>\n",
       "      <th>scientific_name</th>\n",
       "      <th>common_names</th>\n",
       "      <th>conservation_status</th>\n",
       "      <th>category_Amphibian</th>\n",
       "      <th>category_Bird</th>\n",
       "      <th>category_Fish</th>\n",
       "      <th>category_Mammal</th>\n",
       "      <th>category_Nonvascular Plant</th>\n",
       "      <th>category_Reptile</th>\n",
       "      <th>category_Vascular Plant</th>\n",
       "    </tr>\n",
       "  </thead>\n",
       "  <tbody>\n",
       "    <tr>\n",
       "      <th>0</th>\n",
       "      <td>Clethrionomys gapperi gapperi</td>\n",
       "      <td>Gapper's Red-Backed Vole</td>\n",
       "      <td>NaN</td>\n",
       "      <td>0</td>\n",
       "      <td>0</td>\n",
       "      <td>0</td>\n",
       "      <td>1</td>\n",
       "      <td>0</td>\n",
       "      <td>0</td>\n",
       "      <td>0</td>\n",
       "    </tr>\n",
       "    <tr>\n",
       "      <th>1</th>\n",
       "      <td>Bos bison</td>\n",
       "      <td>American Bison, Bison</td>\n",
       "      <td>NaN</td>\n",
       "      <td>0</td>\n",
       "      <td>0</td>\n",
       "      <td>0</td>\n",
       "      <td>1</td>\n",
       "      <td>0</td>\n",
       "      <td>0</td>\n",
       "      <td>0</td>\n",
       "    </tr>\n",
       "    <tr>\n",
       "      <th>2</th>\n",
       "      <td>Bos taurus</td>\n",
       "      <td>Aurochs, Aurochs, Domestic Cattle (Feral), Dom...</td>\n",
       "      <td>NaN</td>\n",
       "      <td>0</td>\n",
       "      <td>0</td>\n",
       "      <td>0</td>\n",
       "      <td>1</td>\n",
       "      <td>0</td>\n",
       "      <td>0</td>\n",
       "      <td>0</td>\n",
       "    </tr>\n",
       "    <tr>\n",
       "      <th>3</th>\n",
       "      <td>Ovis aries</td>\n",
       "      <td>Domestic Sheep, Mouflon, Red Sheep, Sheep (Feral)</td>\n",
       "      <td>NaN</td>\n",
       "      <td>0</td>\n",
       "      <td>0</td>\n",
       "      <td>0</td>\n",
       "      <td>1</td>\n",
       "      <td>0</td>\n",
       "      <td>0</td>\n",
       "      <td>0</td>\n",
       "    </tr>\n",
       "    <tr>\n",
       "      <th>4</th>\n",
       "      <td>Cervus elaphus</td>\n",
       "      <td>Wapiti Or Elk</td>\n",
       "      <td>NaN</td>\n",
       "      <td>0</td>\n",
       "      <td>0</td>\n",
       "      <td>0</td>\n",
       "      <td>1</td>\n",
       "      <td>0</td>\n",
       "      <td>0</td>\n",
       "      <td>0</td>\n",
       "    </tr>\n",
       "  </tbody>\n",
       "</table>\n",
       "</div>"
      ],
      "text/plain": [
       "                 scientific_name  \\\n",
       "0  Clethrionomys gapperi gapperi   \n",
       "1                      Bos bison   \n",
       "2                     Bos taurus   \n",
       "3                     Ovis aries   \n",
       "4                 Cervus elaphus   \n",
       "\n",
       "                                        common_names conservation_status  \\\n",
       "0                           Gapper's Red-Backed Vole                 NaN   \n",
       "1                              American Bison, Bison                 NaN   \n",
       "2  Aurochs, Aurochs, Domestic Cattle (Feral), Dom...                 NaN   \n",
       "3  Domestic Sheep, Mouflon, Red Sheep, Sheep (Feral)                 NaN   \n",
       "4                                      Wapiti Or Elk                 NaN   \n",
       "\n",
       "   category_Amphibian  category_Bird  category_Fish  category_Mammal  \\\n",
       "0                   0              0              0                1   \n",
       "1                   0              0              0                1   \n",
       "2                   0              0              0                1   \n",
       "3                   0              0              0                1   \n",
       "4                   0              0              0                1   \n",
       "\n",
       "   category_Nonvascular Plant  category_Reptile  category_Vascular Plant  \n",
       "0                           0                 0                        0  \n",
       "1                           0                 0                        0  \n",
       "2                           0                 0                        0  \n",
       "3                           0                 0                        0  \n",
       "4                           0                 0                        0  "
      ]
     },
     "execution_count": 6,
     "metadata": {},
     "output_type": "execute_result"
    }
   ],
   "source": [
    "# I do this because its earier to work with numbers for charts. And to make it easier for me to get a general overview\n",
    "# of what im looking at. Its also way faster.\n",
    "\n",
    "extended_species = species\n",
    "extended_species = pd.get_dummies(data=extended_species, columns=['category'])\n",
    "extended_species.head()"
   ]
  },
  {
   "cell_type": "code",
   "execution_count": 7,
   "metadata": {
    "scrolled": false
   },
   "outputs": [
    {
     "name": "stdout",
     "output_type": "stream",
     "text": [
      "[80, 521, 127, 214, 333, 79, 4470]\n"
     ]
    },
    {
     "data": {
      "text/plain": [
       "<Figure size 1080x720 with 0 Axes>"
      ]
     },
     "metadata": {},
     "output_type": "display_data"
    }
   ],
   "source": [
    "sums = [extended_species.category_Amphibian.sum(), extended_species.category_Bird.sum(), extended_species.category_Fish.sum(), \n",
    "        extended_species.category_Mammal.sum(), extended_species['category_Nonvascular Plant'].sum(), \n",
    "        extended_species.category_Reptile.sum(), extended_species['category_Vascular Plant'].sum()]\n",
    "print(sums)\n",
    "amount = range(7)\n",
    "\n",
    "f, ax = plt.subplots(figsize=(15, 10))\n",
    "ax.set_title('Types of Species')\n",
    "ax.set_xticks(range(0, 7))\n",
    "ax.set_xticklabels(['Amphibian', 'Bird', 'Fish', 'Mammal', 'Nonvascular plant', 'Reptile', 'Vascular_plant'])\n",
    "ax.bar(range(len(sums)), sums)\n",
    "\n",
    "plt.savefig('Types_of_Species.png')\n",
    "plt.clf()"
   ]
  },
  {
   "cell_type": "code",
   "execution_count": 8,
   "metadata": {},
   "outputs": [
    {
     "name": "stdout",
     "output_type": "stream",
     "text": [
      "['Great Smoky Mountains National Park' 'Yosemite National Park'\n",
      " 'Bryce National Park' 'Yellowstone National Park']\n"
     ]
    }
   ],
   "source": [
    "print(obs.park_name.unique())"
   ]
  },
  {
   "cell_type": "code",
   "execution_count": 9,
   "metadata": {
    "scrolled": false
   },
   "outputs": [
    {
     "name": "stdout",
     "output_type": "stream",
     "text": [
      "[431820, 863332, 576025, 1443562]\n"
     ]
    },
    {
     "data": {
      "image/png": "[encoded data removed]",
      "text/plain": [
       "<Figure size 1080x720 with 1 Axes>"
      ]
     },
     "metadata": {},
     "output_type": "display_data"
    }
   ],
   "source": [
    "# Splitting up the database into separate pieces, and getting an idea of their sizes.\n",
    "\n",
    "Bryce = obs[obs.park_name == 'Bryce National Park']\n",
    "Yosemite = obs[obs.park_name == 'Yosemite National Park']\n",
    "Smokey_mountains = obs[obs.park_name == 'Great Smoky Mountains National Park']\n",
    "Yellowstone = obs[obs.park_name == 'Yellowstone National Park']\n",
    "\n",
    "park_counts = [Smokey_mountains.observations.sum(), Yosemite.observations.sum(), Bryce.observations.sum(),\n",
    "              Yellowstone.observations.sum()]\n",
    "lenght = range(len(park_counts))\n",
    "\n",
    "print(park_counts)\n",
    "\n",
    "f, ax = plt.subplots(figsize=(15, 10))\n",
    "ax.set_title('Park Sizes')\n",
    "ax.set_xticks(lenght)\n",
    "ax.set_xticklabels(obs.park_name.unique())\n",
    "ax.bar(lenght, park_counts)\n",
    "\n",
    "plt.savefig('Park_Sizes.png')"
   ]
  },
  {
   "cell_type": "code",
   "execution_count": 10,
   "metadata": {},
   "outputs": [
    {
     "data": {
      "text/html": [
       "<div>\n",
       "<style scoped>\n",
       "    .dataframe tbody tr th:only-of-type {\n",
       "        vertical-align: middle;\n",
       "    }\n",
       "\n",
       "    .dataframe tbody tr th {\n",
       "        vertical-align: top;\n",
       "    }\n",
       "\n",
       "    .dataframe thead th {\n",
       "        text-align: right;\n",
       "    }\n",
       "</style>\n",
       "<table border=\"1\" class=\"dataframe\">\n",
       "  <thead>\n",
       "    <tr style=\"text-align: right;\">\n",
       "      <th></th>\n",
       "      <th>category</th>\n",
       "      <th>scientific_name</th>\n",
       "      <th>common_names</th>\n",
       "      <th>conservation_status</th>\n",
       "    </tr>\n",
       "  </thead>\n",
       "  <tbody>\n",
       "    <tr>\n",
       "      <th>0</th>\n",
       "      <td>Mammal</td>\n",
       "      <td>Clethrionomys gapperi gapperi</td>\n",
       "      <td>Gapper's Red-Backed Vole</td>\n",
       "      <td>No Intervention</td>\n",
       "    </tr>\n",
       "    <tr>\n",
       "      <th>1</th>\n",
       "      <td>Mammal</td>\n",
       "      <td>Bos bison</td>\n",
       "      <td>American Bison, Bison</td>\n",
       "      <td>No Intervention</td>\n",
       "    </tr>\n",
       "    <tr>\n",
       "      <th>2</th>\n",
       "      <td>Mammal</td>\n",
       "      <td>Bos taurus</td>\n",
       "      <td>Aurochs, Aurochs, Domestic Cattle (Feral), Dom...</td>\n",
       "      <td>No Intervention</td>\n",
       "    </tr>\n",
       "    <tr>\n",
       "      <th>3</th>\n",
       "      <td>Mammal</td>\n",
       "      <td>Ovis aries</td>\n",
       "      <td>Domestic Sheep, Mouflon, Red Sheep, Sheep (Feral)</td>\n",
       "      <td>No Intervention</td>\n",
       "    </tr>\n",
       "    <tr>\n",
       "      <th>4</th>\n",
       "      <td>Mammal</td>\n",
       "      <td>Cervus elaphus</td>\n",
       "      <td>Wapiti Or Elk</td>\n",
       "      <td>No Intervention</td>\n",
       "    </tr>\n",
       "  </tbody>\n",
       "</table>\n",
       "</div>"
      ],
      "text/plain": [
       "  category                scientific_name  \\\n",
       "0   Mammal  Clethrionomys gapperi gapperi   \n",
       "1   Mammal                      Bos bison   \n",
       "2   Mammal                     Bos taurus   \n",
       "3   Mammal                     Ovis aries   \n",
       "4   Mammal                 Cervus elaphus   \n",
       "\n",
       "                                        common_names conservation_status  \n",
       "0                           Gapper's Red-Backed Vole     No Intervention  \n",
       "1                              American Bison, Bison     No Intervention  \n",
       "2  Aurochs, Aurochs, Domestic Cattle (Feral), Dom...     No Intervention  \n",
       "3  Domestic Sheep, Mouflon, Red Sheep, Sheep (Feral)     No Intervention  \n",
       "4                                      Wapiti Or Elk     No Intervention  "
      ]
     },
     "execution_count": 10,
     "metadata": {},
     "output_type": "execute_result"
    }
   ],
   "source": [
    "# Fill in all nan values in conservation status.\n",
    "\n",
    "species['conservation_status'] = species.conservation_status.fillna('No Intervention')\n",
    "species.head()"
   ]
  },
  {
   "cell_type": "code",
   "execution_count": 11,
   "metadata": {},
   "outputs": [
    {
     "data": {
      "text/plain": [
       "[No Intervention, Species of Concern, Endangered, Threatened, In Recovery]\n",
       "Categories (5, object): [No Intervention < In Recovery < Species of Concern < Threatened < Endangered]"
      ]
     },
     "execution_count": 11,
     "metadata": {},
     "output_type": "execute_result"
    }
   ],
   "source": [
    "# As I previusly stated, I find it easier to work with numbers. This enables creating a new column\n",
    "# turning conservation status into ordered values (0 to 4).\n",
    "\n",
    "species['conservation_status'] = pd.Categorical(species['conservation_status'], \n",
    "                                                ['No Intervention', 'In Recovery', 'Species of Concern', \n",
    "                                                 'Threatened', 'Endangered'], \n",
    "                                                ordered=True)\n",
    "\n",
    "species.conservation_status.unique()"
   ]
  },
  {
   "cell_type": "code",
   "execution_count": 12,
   "metadata": {},
   "outputs": [
    {
     "data": {
      "text/html": [
       "<div>\n",
       "<style scoped>\n",
       "    .dataframe tbody tr th:only-of-type {\n",
       "        vertical-align: middle;\n",
       "    }\n",
       "\n",
       "    .dataframe tbody tr th {\n",
       "        vertical-align: top;\n",
       "    }\n",
       "\n",
       "    .dataframe thead th {\n",
       "        text-align: right;\n",
       "    }\n",
       "</style>\n",
       "<table border=\"1\" class=\"dataframe\">\n",
       "  <thead>\n",
       "    <tr style=\"text-align: right;\">\n",
       "      <th></th>\n",
       "      <th>category</th>\n",
       "      <th>scientific_name</th>\n",
       "      <th>common_names</th>\n",
       "      <th>conservation_status</th>\n",
       "      <th>conservation_value</th>\n",
       "    </tr>\n",
       "  </thead>\n",
       "  <tbody>\n",
       "    <tr>\n",
       "      <th>0</th>\n",
       "      <td>Mammal</td>\n",
       "      <td>Clethrionomys gapperi gapperi</td>\n",
       "      <td>Gapper's Red-Backed Vole</td>\n",
       "      <td>No Intervention</td>\n",
       "      <td>0</td>\n",
       "    </tr>\n",
       "    <tr>\n",
       "      <th>1</th>\n",
       "      <td>Mammal</td>\n",
       "      <td>Bos bison</td>\n",
       "      <td>American Bison, Bison</td>\n",
       "      <td>No Intervention</td>\n",
       "      <td>0</td>\n",
       "    </tr>\n",
       "    <tr>\n",
       "      <th>2</th>\n",
       "      <td>Mammal</td>\n",
       "      <td>Bos taurus</td>\n",
       "      <td>Aurochs, Aurochs, Domestic Cattle (Feral), Dom...</td>\n",
       "      <td>No Intervention</td>\n",
       "      <td>0</td>\n",
       "    </tr>\n",
       "    <tr>\n",
       "      <th>3</th>\n",
       "      <td>Mammal</td>\n",
       "      <td>Ovis aries</td>\n",
       "      <td>Domestic Sheep, Mouflon, Red Sheep, Sheep (Feral)</td>\n",
       "      <td>No Intervention</td>\n",
       "      <td>0</td>\n",
       "    </tr>\n",
       "    <tr>\n",
       "      <th>4</th>\n",
       "      <td>Mammal</td>\n",
       "      <td>Cervus elaphus</td>\n",
       "      <td>Wapiti Or Elk</td>\n",
       "      <td>No Intervention</td>\n",
       "      <td>0</td>\n",
       "    </tr>\n",
       "  </tbody>\n",
       "</table>\n",
       "</div>"
      ],
      "text/plain": [
       "  category                scientific_name  \\\n",
       "0   Mammal  Clethrionomys gapperi gapperi   \n",
       "1   Mammal                      Bos bison   \n",
       "2   Mammal                     Bos taurus   \n",
       "3   Mammal                     Ovis aries   \n",
       "4   Mammal                 Cervus elaphus   \n",
       "\n",
       "                                        common_names conservation_status  \\\n",
       "0                           Gapper's Red-Backed Vole     No Intervention   \n",
       "1                              American Bison, Bison     No Intervention   \n",
       "2  Aurochs, Aurochs, Domestic Cattle (Feral), Dom...     No Intervention   \n",
       "3  Domestic Sheep, Mouflon, Red Sheep, Sheep (Feral)     No Intervention   \n",
       "4                                      Wapiti Or Elk     No Intervention   \n",
       "\n",
       "   conservation_value  \n",
       "0                   0  \n",
       "1                   0  \n",
       "2                   0  \n",
       "3                   0  \n",
       "4                   0  "
      ]
     },
     "execution_count": 12,
     "metadata": {},
     "output_type": "execute_result"
    }
   ],
   "source": [
    "species['conservation_value'] = species.conservation_status.cat.codes\n",
    "species.head()"
   ]
  },
  {
   "cell_type": "code",
   "execution_count": 13,
   "metadata": {},
   "outputs": [],
   "source": [
    "# Again, since this dataset is pretty big I split it into pieces\n",
    "\n",
    "Mammals = species[species.category == 'Mammal']\n",
    "Birds = species[species.category == 'Bird']\n",
    "Reptiles = species[species.category == 'Reptile']\n",
    "Amphibians = species[species.category == 'Amphibian']\n",
    "Fish = species[species.category == 'Fish']\n",
    "Vascular_plant = species[species.category == 'Vascular Plant']\n",
    "NonVascular_plant = species[species.category == 'Nonvascular Plant']\n",
    "\n",
    "Endangered = species[species.conservation_status == 'Endangered']\n",
    "Concern = species[species.conservation_status == 'Species of Concern']"
   ]
  },
  {
   "cell_type": "code",
   "execution_count": 14,
   "metadata": {},
   "outputs": [
    {
     "data": {
      "text/html": [
       "<div>\n",
       "<style scoped>\n",
       "    .dataframe tbody tr th:only-of-type {\n",
       "        vertical-align: middle;\n",
       "    }\n",
       "\n",
       "    .dataframe tbody tr th {\n",
       "        vertical-align: top;\n",
       "    }\n",
       "\n",
       "    .dataframe thead th {\n",
       "        text-align: right;\n",
       "    }\n",
       "</style>\n",
       "<table border=\"1\" class=\"dataframe\">\n",
       "  <thead>\n",
       "    <tr style=\"text-align: right;\">\n",
       "      <th></th>\n",
       "      <th>category</th>\n",
       "      <th>scientific_name</th>\n",
       "      <th>common_names</th>\n",
       "      <th>conservation_status</th>\n",
       "      <th>conservation_value</th>\n",
       "    </tr>\n",
       "  </thead>\n",
       "  <tbody>\n",
       "    <tr>\n",
       "      <th>7</th>\n",
       "      <td>Mammal</td>\n",
       "      <td>Canis latrans</td>\n",
       "      <td>Coyote</td>\n",
       "      <td>Species of Concern</td>\n",
       "      <td>2</td>\n",
       "    </tr>\n",
       "    <tr>\n",
       "      <th>8</th>\n",
       "      <td>Mammal</td>\n",
       "      <td>Canis lupus</td>\n",
       "      <td>Gray Wolf</td>\n",
       "      <td>Endangered</td>\n",
       "      <td>4</td>\n",
       "    </tr>\n",
       "    <tr>\n",
       "      <th>9</th>\n",
       "      <td>Mammal</td>\n",
       "      <td>Canis rufus</td>\n",
       "      <td>Red Wolf</td>\n",
       "      <td>Endangered</td>\n",
       "      <td>4</td>\n",
       "    </tr>\n",
       "    <tr>\n",
       "      <th>29</th>\n",
       "      <td>Mammal</td>\n",
       "      <td>Eptesicus fuscus</td>\n",
       "      <td>Big Brown Bat</td>\n",
       "      <td>Species of Concern</td>\n",
       "      <td>2</td>\n",
       "    </tr>\n",
       "    <tr>\n",
       "      <th>30</th>\n",
       "      <td>Mammal</td>\n",
       "      <td>Lasionycteris noctivagans</td>\n",
       "      <td>Silver-Haired Bat</td>\n",
       "      <td>Species of Concern</td>\n",
       "      <td>2</td>\n",
       "    </tr>\n",
       "  </tbody>\n",
       "</table>\n",
       "</div>"
      ],
      "text/plain": [
       "   category            scientific_name       common_names conservation_status  \\\n",
       "7    Mammal              Canis latrans             Coyote  Species of Concern   \n",
       "8    Mammal                Canis lupus          Gray Wolf          Endangered   \n",
       "9    Mammal                Canis rufus           Red Wolf          Endangered   \n",
       "29   Mammal           Eptesicus fuscus      Big Brown Bat  Species of Concern   \n",
       "30   Mammal  Lasionycteris noctivagans  Silver-Haired Bat  Species of Concern   \n",
       "\n",
       "    conservation_value  \n",
       "7                    2  \n",
       "8                    4  \n",
       "9                    4  \n",
       "29                   2  \n",
       "30                   2  "
      ]
     },
     "execution_count": 14,
     "metadata": {},
     "output_type": "execute_result"
    }
   ],
   "source": [
    "# This is to get all species that need some kind of intervention.\n",
    "# It is worth noting 'in recovery' a matter of debate whenever it needs some sort of intervention\n",
    "# or not. I decided to leave it in\n",
    "\n",
    "Nonnan_Mammals = Mammals[Mammals.conservation_status != 'No Intervention']\n",
    "Nonnan_Birds = Birds[Birds.conservation_status != 'No Intervention']\n",
    "Nonnan_Reptiles = Reptiles[Reptiles.conservation_status != 'No Intervention']\n",
    "Nonnan_Amphibians = Amphibians[Amphibians.conservation_status != 'No Intervention']\n",
    "Nonnan_Fish = Fish[Fish.conservation_status != 'No Intervention']\n",
    "Nonnan_Vascular_plant = Vascular_plant[Vascular_plant.conservation_status != 'No Intervention']\n",
    "Nonnan_NonVascular_plant = NonVascular_plant[NonVascular_plant.conservation_status != 'No Intervention']\n",
    "\n",
    "Nonnan_Mammals.head()\n"
   ]
  },
  {
   "cell_type": "code",
   "execution_count": 15,
   "metadata": {
    "scrolled": true
   },
   "outputs": [
    {
     "name": "stdout",
     "output_type": "stream",
     "text": [
      "[1, 28, 2, 7]\n"
     ]
    },
    {
     "data": {
      "image/png": "[encoded data removed]",
      "text/plain": [
       "<Figure size 1080x720 with 1 Axes>"
      ]
     },
     "metadata": {},
     "output_type": "display_data"
    },
    {
     "name": "stdout",
     "output_type": "stream",
     "text": [
      "[3, 72, 0, 4]\n"
     ]
    },
    {
     "data": {
      "text/plain": [
       "<Figure size 432x288 with 0 Axes>"
      ]
     },
     "metadata": {},
     "output_type": "display_data"
    },
    {
     "data": {
      "image/png": "[encoded data removed]",
      "text/plain": [
       "<Figure size 1080x720 with 1 Axes>"
      ]
     },
     "metadata": {},
     "output_type": "display_data"
    },
    {
     "name": "stdout",
     "output_type": "stream",
     "text": [
      "[0, 5, 0, 0]\n"
     ]
    },
    {
     "data": {
      "text/plain": [
       "<Figure size 432x288 with 0 Axes>"
      ]
     },
     "metadata": {},
     "output_type": "display_data"
    },
    {
     "data": {
      "image/png": "[encoded data removed]",
      "text/plain": [
       "<Figure size 1080x720 with 1 Axes>"
      ]
     },
     "metadata": {},
     "output_type": "display_data"
    },
    {
     "name": "stdout",
     "output_type": "stream",
     "text": [
      "[0, 4, 2, 1]\n"
     ]
    },
    {
     "data": {
      "text/plain": [
       "<Figure size 432x288 with 0 Axes>"
      ]
     },
     "metadata": {},
     "output_type": "display_data"
    },
    {
     "data": {
      "image/png": "[encoded data removed]",
      "text/plain": [
       "<Figure size 1080x720 with 1 Axes>"
      ]
     },
     "metadata": {},
     "output_type": "display_data"
    },
    {
     "name": "stdout",
     "output_type": "stream",
     "text": [
      "[0, 4, 4, 3]\n"
     ]
    },
    {
     "data": {
      "text/plain": [
       "<Figure size 432x288 with 0 Axes>"
      ]
     },
     "metadata": {},
     "output_type": "display_data"
    },
    {
     "data": {
      "image/png": "[encoded data removed]",
      "text/plain": [
       "<Figure size 1080x720 with 1 Axes>"
      ]
     },
     "metadata": {},
     "output_type": "display_data"
    },
    {
     "name": "stdout",
     "output_type": "stream",
     "text": [
      "[0, 43, 2, 1]\n"
     ]
    },
    {
     "data": {
      "text/plain": [
       "<Figure size 432x288 with 0 Axes>"
      ]
     },
     "metadata": {},
     "output_type": "display_data"
    },
    {
     "data": {
      "image/png": "[encoded data removed]",
      "text/plain": [
       "<Figure size 1080x720 with 1 Axes>"
      ]
     },
     "metadata": {},
     "output_type": "display_data"
    },
    {
     "name": "stdout",
     "output_type": "stream",
     "text": [
      "[0, 5, 0, 0]\n"
     ]
    },
    {
     "data": {
      "text/plain": [
       "<Figure size 432x288 with 0 Axes>"
      ]
     },
     "metadata": {},
     "output_type": "display_data"
    },
    {
     "data": {
      "image/png": "[encoded data removed]",
      "text/plain": [
       "<Figure size 1080x720 with 1 Axes>"
      ]
     },
     "metadata": {},
     "output_type": "display_data"
    },
    {
     "data": {
      "text/plain": [
       "<Figure size 432x288 with 0 Axes>"
      ]
     },
     "metadata": {},
     "output_type": "display_data"
    }
   ],
   "source": [
    "lenght = range(4)\n",
    "\n",
    "def create_fig(name, x, y, labels=['Recovery', 'Concern', 'Threatened', 'Endangered']):\n",
    "    f, ax = plt.subplots(figsize=(15, 10))\n",
    "    ax.set_title('Intervention needed for {}'.format(name))\n",
    "    ax.set_xticks(x)\n",
    "    ax.set_xticklabels(labels)\n",
    "    ax.bar(x, y)\n",
    "    plt.show()\n",
    "    plt.savefig('Intervention_for_' + str(name) + '.png')\n",
    "    \n",
    "def calculate_y(li):\n",
    "    new_list = []\n",
    "    for i in range(1, 5):\n",
    "        new_list.append((li.conservation_value == i).sum())\n",
    "    return new_list\n",
    "        \n",
    "    \n",
    "large_nonnan_list = [Nonnan_Mammals, Nonnan_Birds, Nonnan_Reptiles, Nonnan_Amphibians, Nonnan_Fish, Nonnan_Vascular_plant,\n",
    "                    Nonnan_NonVascular_plant]\n",
    "titles = ['Mammals', 'Birds', 'Reptiles', 'Amphibians', 'Fish', 'Vascular Plant', 'Nonvascular Plant']\n",
    "\n",
    "number = 0\n",
    "for i in large_nonnan_list:\n",
    "    values = calculate_y(i)\n",
    "    print(values)\n",
    "    create_fig(titles[number], range(len(values)), values)\n",
    "    plt.clf()\n",
    "    number += 1"
   ]
  },
  {
   "cell_type": "code",
   "execution_count": 16,
   "metadata": {},
   "outputs": [
    {
     "data": {
      "text/html": [
       "<div>\n",
       "<style scoped>\n",
       "    .dataframe tbody tr th:only-of-type {\n",
       "        vertical-align: middle;\n",
       "    }\n",
       "\n",
       "    .dataframe tbody tr th {\n",
       "        vertical-align: top;\n",
       "    }\n",
       "\n",
       "    .dataframe thead th {\n",
       "        text-align: right;\n",
       "    }\n",
       "</style>\n",
       "<table border=\"1\" class=\"dataframe\">\n",
       "  <thead>\n",
       "    <tr style=\"text-align: right;\">\n",
       "      <th></th>\n",
       "      <th>category</th>\n",
       "      <th>scientific_name</th>\n",
       "      <th>common_names</th>\n",
       "      <th>conservation_status</th>\n",
       "      <th>conservation_value</th>\n",
       "      <th>intervention_needed</th>\n",
       "    </tr>\n",
       "  </thead>\n",
       "  <tbody>\n",
       "    <tr>\n",
       "      <th>0</th>\n",
       "      <td>Mammal</td>\n",
       "      <td>Clethrionomys gapperi gapperi</td>\n",
       "      <td>Gapper's Red-Backed Vole</td>\n",
       "      <td>No Intervention</td>\n",
       "      <td>0</td>\n",
       "      <td>False</td>\n",
       "    </tr>\n",
       "    <tr>\n",
       "      <th>1</th>\n",
       "      <td>Mammal</td>\n",
       "      <td>Bos bison</td>\n",
       "      <td>American Bison, Bison</td>\n",
       "      <td>No Intervention</td>\n",
       "      <td>0</td>\n",
       "      <td>False</td>\n",
       "    </tr>\n",
       "    <tr>\n",
       "      <th>2</th>\n",
       "      <td>Mammal</td>\n",
       "      <td>Bos taurus</td>\n",
       "      <td>Aurochs, Aurochs, Domestic Cattle (Feral), Dom...</td>\n",
       "      <td>No Intervention</td>\n",
       "      <td>0</td>\n",
       "      <td>False</td>\n",
       "    </tr>\n",
       "    <tr>\n",
       "      <th>3</th>\n",
       "      <td>Mammal</td>\n",
       "      <td>Ovis aries</td>\n",
       "      <td>Domestic Sheep, Mouflon, Red Sheep, Sheep (Feral)</td>\n",
       "      <td>No Intervention</td>\n",
       "      <td>0</td>\n",
       "      <td>False</td>\n",
       "    </tr>\n",
       "    <tr>\n",
       "      <th>4</th>\n",
       "      <td>Mammal</td>\n",
       "      <td>Cervus elaphus</td>\n",
       "      <td>Wapiti Or Elk</td>\n",
       "      <td>No Intervention</td>\n",
       "      <td>0</td>\n",
       "      <td>False</td>\n",
       "    </tr>\n",
       "  </tbody>\n",
       "</table>\n",
       "</div>"
      ],
      "text/plain": [
       "  category                scientific_name  \\\n",
       "0   Mammal  Clethrionomys gapperi gapperi   \n",
       "1   Mammal                      Bos bison   \n",
       "2   Mammal                     Bos taurus   \n",
       "3   Mammal                     Ovis aries   \n",
       "4   Mammal                 Cervus elaphus   \n",
       "\n",
       "                                        common_names conservation_status  \\\n",
       "0                           Gapper's Red-Backed Vole     No Intervention   \n",
       "1                              American Bison, Bison     No Intervention   \n",
       "2  Aurochs, Aurochs, Domestic Cattle (Feral), Dom...     No Intervention   \n",
       "3  Domestic Sheep, Mouflon, Red Sheep, Sheep (Feral)     No Intervention   \n",
       "4                                      Wapiti Or Elk     No Intervention   \n",
       "\n",
       "   conservation_value  intervention_needed  \n",
       "0                   0                False  \n",
       "1                   0                False  \n",
       "2                   0                False  \n",
       "3                   0                False  \n",
       "4                   0                False  "
      ]
     },
     "execution_count": 16,
     "metadata": {},
     "output_type": "execute_result"
    }
   ],
   "source": [
    "species['intervention_needed'] = (species.conservation_value > 0)\n",
    "species.head()"
   ]
  },
  {
   "cell_type": "code",
   "execution_count": 17,
   "metadata": {},
   "outputs": [
    {
     "data": {
      "text/html": [
       "<div>\n",
       "<style scoped>\n",
       "    .dataframe tbody tr th:only-of-type {\n",
       "        vertical-align: middle;\n",
       "    }\n",
       "\n",
       "    .dataframe tbody tr th {\n",
       "        vertical-align: top;\n",
       "    }\n",
       "\n",
       "    .dataframe thead th {\n",
       "        text-align: right;\n",
       "    }\n",
       "</style>\n",
       "<table border=\"1\" class=\"dataframe\">\n",
       "  <thead>\n",
       "    <tr style=\"text-align: right;\">\n",
       "      <th></th>\n",
       "      <th>Animal</th>\n",
       "      <th>no_intervention</th>\n",
       "      <th>intervention_needed</th>\n",
       "    </tr>\n",
       "  </thead>\n",
       "  <tbody>\n",
       "    <tr>\n",
       "      <th>0</th>\n",
       "      <td>Amphibian</td>\n",
       "      <td>72</td>\n",
       "      <td>7</td>\n",
       "    </tr>\n",
       "    <tr>\n",
       "      <th>1</th>\n",
       "      <td>Bird</td>\n",
       "      <td>413</td>\n",
       "      <td>75</td>\n",
       "    </tr>\n",
       "    <tr>\n",
       "      <th>2</th>\n",
       "      <td>Fish</td>\n",
       "      <td>115</td>\n",
       "      <td>11</td>\n",
       "    </tr>\n",
       "    <tr>\n",
       "      <th>3</th>\n",
       "      <td>Mammal</td>\n",
       "      <td>146</td>\n",
       "      <td>30</td>\n",
       "    </tr>\n",
       "    <tr>\n",
       "      <th>4</th>\n",
       "      <td>Nonvascular Plant</td>\n",
       "      <td>328</td>\n",
       "      <td>5</td>\n",
       "    </tr>\n",
       "    <tr>\n",
       "      <th>5</th>\n",
       "      <td>Reptile</td>\n",
       "      <td>73</td>\n",
       "      <td>5</td>\n",
       "    </tr>\n",
       "    <tr>\n",
       "      <th>6</th>\n",
       "      <td>Vascular Plant</td>\n",
       "      <td>4216</td>\n",
       "      <td>46</td>\n",
       "    </tr>\n",
       "  </tbody>\n",
       "</table>\n",
       "</div>"
      ],
      "text/plain": [
       "              Animal  no_intervention  intervention_needed\n",
       "0          Amphibian               72                    7\n",
       "1               Bird              413                   75\n",
       "2               Fish              115                   11\n",
       "3             Mammal              146                   30\n",
       "4  Nonvascular Plant              328                    5\n",
       "5            Reptile               73                    5\n",
       "6     Vascular Plant             4216                   46"
      ]
     },
     "execution_count": 17,
     "metadata": {},
     "output_type": "execute_result"
    }
   ],
   "source": [
    "no_inter = species.groupby(['category', 'intervention_needed']).scientific_name.nunique().reset_index()\\\n",
    "                            .pivot(columns='intervention_needed',\n",
    "                                index='category',\n",
    "                                values='scientific_name').reset_index()\n",
    "no_inter.columns = ['Animal', 'no_intervention', 'intervention_needed']\n",
    "no_inter\n"
   ]
  },
  {
   "cell_type": "code",
   "execution_count": 18,
   "metadata": {
    "scrolled": false
   },
   "outputs": [
    {
     "name": "stdout",
     "output_type": "stream",
     "text": [
      "testing significance between Amphibians and; \n",
      "\n",
      "Birds:  chi2: 1.831621580618698, pval: 0.17593613249594683, dof: 1 and expected [[ 11.42504409  67.57495591]\n",
      " [ 70.57495591 417.42504409]] \n",
      "\n",
      "Fish:  chi2: 0.04901039284571186, pval: 0.8247942981524834, dof: 1 and expected [[  6.93658537  72.06341463]\n",
      " [ 11.06341463 114.93658537]] \n",
      "\n",
      "Mammal:  chi2: 2.321746712946015, pval: 0.12757669693198975, dof: 1 and expected [[ 11.4627451  67.5372549]\n",
      " [ 25.5372549 150.4627451]] \n",
      "\n",
      "Nonvascular Plant:  chi2: 9.765103711306242, pval: 0.001778554820715609, dof: 1 and expected [[  2.30097087  76.69902913]\n",
      " [  9.69902913 323.30097087]] \n",
      "\n",
      "Reptile:  chi2: 0.07696702910310493, pval: 0.7814504686518953, dof: 1 and expected [[ 6.03821656 72.96178344]\n",
      " [ 5.96178344 72.03821656]] \n",
      "\n",
      "Vascular Plant:  chi2: 32.7572979770742, pval: 1.0441355146657018e-08, dof: 1 and expected [[9.64524303e-01 7.80354757e+01]\n",
      " [5.20354757e+01 4.20996452e+03]] \n",
      "\n",
      "------------------------------\n",
      "\n",
      "testing significance between Birds and; \n",
      "\n",
      "Fish:  chi2: 3.1338596463736463, pval: 0.07668199569057187, dof: 1 and expected [[ 68.35179153 419.64820847]\n",
      " [ 17.64820847 108.35179153]] \n",
      "\n",
      "Mammal:  chi2: 0.16170148316545574, pval: 0.6875948096661336, dof: 1 and expected [[ 77.1686747 410.8313253]\n",
      " [ 27.8313253 148.1686747]] \n",
      "\n",
      "Nonvascular Plant:  chi2: 41.717457869992714, pval: 1.0546306904975004e-10, dof: 1 and expected [[ 47.55176614 440.44823386]\n",
      " [ 32.44823386 300.55176614]] \n",
      "\n",
      "Reptile:  chi2: 3.7396547786854963, pval: 0.05313542232154235, dof: 1 and expected [[ 68.97526502 419.02473498]\n",
      " [ 11.02473498  66.97526502]] \n",
      "\n",
      "Vascular Plant:  chi2: 354.42332680820607, pval: 4.612268031690143e-79, dof: 1 and expected [[  12.43115789  475.56884211]\n",
      " [ 108.56884211 4153.43115789]] \n",
      "\n",
      "------------------------------\n",
      "\n",
      "testing significance between Fish and; \n",
      "\n",
      "Mammal:  chi2: 3.6476510249814145, pval: 0.056148348448900355, dof: 1 and expected [[ 17.10596026 108.89403974]\n",
      " [ 23.89403974 152.10596026]] \n",
      "\n",
      "Nonvascular_Plant:  chi2: 12.13040550073211, pval: 0.0004960633228752838, dof: 1 and expected [[  4.39215686 121.60784314]\n",
      " [ 11.60784314 321.39215686]] \n",
      "\n",
      "Reptile:  chi2: 0.10955400981996731, pval: 0.7406524615907095, dof: 1 and expected [[  9.88235294 116.11764706]\n",
      " [  6.11764706  71.88235294]] \n",
      "\n",
      "Vascular_Plant:  chi2: 50.065682762850486, pval: 1.486846949188912e-12, dof: 1 and expected [[1.63673655e+00 1.24363263e+02]\n",
      " [5.53632634e+01 4.20663674e+03]] \n",
      "\n",
      "------------------------------\n",
      "\n",
      "testing significance between Mammal and; \n",
      "\n",
      "Nonvascular Plant:  chi2: 41.0526001992972, pval: 1.481868915759314e-10, dof: 1 and expected [[ 12.1021611 163.8978389]\n",
      " [ 22.8978389 310.1021611]] \n",
      "\n",
      "Reptile:  chi2: 4.289183096203645, pval: 0.03835559022969898, dof: 1 and expected [[ 24.2519685 151.7480315]\n",
      " [ 10.7480315  67.2519685]] \n",
      "\n",
      "Vascular Plant:  chi2: 246.5870424874456, pval: 1.4405067309854046e-55, dof: 1 and expected [[3.01397026e+00 1.72986030e+02]\n",
      " [7.29860297e+01 4.18901397e+03]] \n",
      "\n",
      "------------------------------\n",
      "\n",
      "testing significance between Nonvascular Plant and; \n",
      "\n",
      "Reptile:  chi2: 4.513570089848144, pval: 0.03362698310726171, dof: 1 and expected [[  8.10218978 324.89781022]\n",
      " [  1.89781022  76.10218978]] \n",
      "\n",
      "Vascular Plant:  chi2: 0.19069121233812064, pval: 0.6623419491381985, dof: 1 and expected [[3.69597388e+00 3.29304026e+02]\n",
      " [4.73040261e+01 4.21469597e+03]] \n",
      "\n",
      "------------------------------\n",
      "\n",
      "testing significance between Reptile and Vascular Plant \n",
      "\n",
      "chi2: 14.435371140033908, pval: 0.00014505215494675828, dof: 1 and expected [[9.16589862e-01 7.70834101e+01]\n",
      " [5.00834101e+01 4.21191659e+03]]\n"
     ]
    }
   ],
   "source": [
    "# \n",
    "\n",
    "Amphibian = [7, 72]\n",
    "Bird = [75, 413]\n",
    "Fish = [11, 115]\n",
    "Mammal = [30, 146]\n",
    "Nonvascular_Plant = [5, 328]\n",
    "Reptile = [5, 73]\n",
    "Vascular_Plant = [46, 4216]\n",
    "\n",
    "def chi2_calk(x, y):\n",
    "    chi2, pval, dof, expected = chi2_contingency([x, y])\n",
    "    return \"chi2: {}, pval: {}, dof: {} and expected {}\".format(str(chi2), str(pval), str(dof), str(expected))\n",
    "\n",
    "# Amphibians and the others\n",
    "print('testing significance between Amphibians and; \\n')\n",
    "print(\"Birds: \", chi2_calk(Amphibian, Bird), \"\\n\")\n",
    "print(\"Fish: \", chi2_calk(Amphibian, Fish), \"\\n\")\n",
    "print(\"Mammal: \", chi2_calk(Amphibian, Mammal), \"\\n\")\n",
    "print(\"Nonvascular Plant: \", chi2_calk(Amphibian, Nonvascular_Plant), \"\\n\")\n",
    "print(\"Reptile: \", chi2_calk(Amphibian, Reptile), \"\\n\")\n",
    "print(\"Vascular Plant: \", chi2_calk(Amphibian, Vascular_Plant), \"\\n\")\n",
    "print(\"------------------------------\\n\")\n",
    "\n",
    "#Birds and the others\n",
    "print('testing significance between Birds and; \\n')\n",
    "print(\"Fish: \", chi2_calk(Bird, Fish), \"\\n\")\n",
    "print(\"Mammal: \", chi2_calk(Bird, Mammal), \"\\n\")\n",
    "print(\"Nonvascular Plant: \", chi2_calk(Bird, Nonvascular_Plant), \"\\n\")\n",
    "print(\"Reptile: \", chi2_calk(Bird, Reptile), \"\\n\")\n",
    "print(\"Vascular Plant: \", chi2_calk(Bird, Vascular_Plant), \"\\n\")\n",
    "print(\"------------------------------\\n\")\n",
    "\n",
    "#Fish and the others\n",
    "print('testing significance between Fish and; \\n')\n",
    "print(\"Mammal: \", chi2_calk(Fish, Mammal), \"\\n\")\n",
    "print(\"Nonvascular_Plant: \", chi2_calk(Fish, Nonvascular_Plant), \"\\n\")\n",
    "print(\"Reptile: \", chi2_calk(Fish, Reptile), \"\\n\")\n",
    "print(\"Vascular_Plant: \", chi2_calk(Fish, Vascular_Plant), \"\\n\")\n",
    "print(\"------------------------------\\n\")\n",
    "\n",
    "#Mammal and the others\n",
    "print('testing significance between Mammal and; \\n')\n",
    "print(\"Nonvascular Plant: \", chi2_calk(Mammal, Nonvascular_Plant), \"\\n\")\n",
    "print(\"Reptile: \", chi2_calk(Mammal, Reptile), \"\\n\")\n",
    "print(\"Vascular Plant: \", chi2_calk(Mammal, Vascular_Plant), \"\\n\")\n",
    "print(\"------------------------------\\n\")\n",
    "\n",
    "#Nonvascular plant and the others\n",
    "print('testing significance between Nonvascular Plant and; \\n')\n",
    "print(\"Reptile: \", chi2_calk(Nonvascular_Plant, Reptile), \"\\n\")\n",
    "print(\"Vascular Plant: \", chi2_calk(Nonvascular_Plant, Vascular_Plant), \"\\n\")\n",
    "print(\"------------------------------\\n\")\n",
    "\n",
    "#Reptile\n",
    "print('testing significance between Reptile and Vascular Plant \\n')\n",
    "print(chi2_calk(Reptile, Vascular_Plant))"
   ]
  },
  {
   "cell_type": "code",
   "execution_count": 19,
   "metadata": {},
   "outputs": [],
   "source": [
    "# Significance found in\n",
    "# Amphibian and Nonvascular plants\n",
    "# Fish and Nonvascular Plants\n",
    "# Mammal and Reptile\n",
    "# Nonvascular Plant and Reptile\n",
    "\n",
    "# From this it seems like nonvascular plant have a huge impact on the biodiversity. As it affects Amphibians, Fish and Reptiles.\n",
    "# And Reptiles in turn affect Mammals. Efforts should therefor be focused on nonvascular plants\n",
    "\n",
    "# Now the question if its a positive relationship or a negative relationship becomes important.\n",
    "# Should efforts be to exterminate nonvascular plants to find a balance where the other species thrive?\n",
    "# Or shuld efforts be to improve the flora for nonvascular plants, in order for species to thrive?\n",
    "\n",
    "# But for that question one has to be attempted first, and new results gathered in a few years in order to see\n",
    "# the difference over time.\n"
   ]
  },
  {
   "cell_type": "code",
   "execution_count": 20,
   "metadata": {},
   "outputs": [],
   "source": [
    "# I am left with a lot of different questions about this dataset after working with it.\n",
    "\n",
    "# Most of them are due pre-existing knowledge about the fauna gotten from studying teory for hunting license in sweden.\n",
    "# Among the things you learn is how the animals coexist and their relations. This is to make shure you hunt the correct\n",
    "# species. Simplified example; Say if bird A and bird B competes for the same food source, and bird A is threathend - \n",
    "# you activly hunt bird B. This is to allow bird A space to recover\n",
    "\n",
    "# So, in this dataset I would like some more columns depending on primary food souce. As this is very important\n",
    "# in determining what actions should be taken, aswell as guessing what the first intervention about nonvascular plants \n",
    "# should be. \n",
    "\n",
    "# This can be quite difficult to awnser. While we can agree on some statements like 'all wolfs are carnivorus'\n",
    "# the same cannot be said about the other categories.\n",
    "# For instance\n",
    "# Turtles cannot be labeld Herbivorus, as some turtles hunt and eat fish. Turtles cannot be labeld Carnivorus, as some\n",
    "# turtles exculsively eat plants. Turtles are not necissarily Omnivorus ether.\n",
    "\n",
    "# Since splitting up every single species can mean a huge amount of hours and research being but in,\n",
    "# then howabout generalising?\n",
    "\n",
    "# So then the question becomes, if the majority of turtles are herbivorus (or omnivorus). And we label them such\n",
    "# while remembering the margin of error (say, if 95% or turtles are herbivores, the margin of error would be 5%).\n",
    "# Can this lead to missinformation down the line? In case person 1 tells person 2 about this and forgets to mention\n",
    "# that turtles are only labeld as such, because the amount competing for different food sources is so small by comparison.\n",
    "# How likely is it that person 2 tells person 3, who procceds to tell all others down the line that \n",
    "# turtles are strictly herbivorus?. Resulting in future research forgeting the original margin of error?\n",
    "\n",
    "# Say we make it clear the above point gets spread to everyone who works and read this, eliminating the issue.\n",
    "\n",
    "# in case we know the primary food sources to each animal\n",
    "# We can start finding awnsers to questions such as\n",
    "# In the reptile category, how manny are herbivorus in comparison to carnivorus and omnivorus?\n",
    "    # Does a higer amount of Herbivorus species of a certan category, such as reptiles,\n",
    "    # lead to a different significance with nonvascular plants? \n",
    "        # We know that nonvascular plants has a significance with reptiles.\n",
    "        \n",
    "        # In case a higher amount of herbivorus animals have more significance with nonvascular plants, nonvascular plants\n",
    "        # are most likely food. and in case most reptiles are herbivores, the correlation most likely to be positive\n",
    "        # It is less likely that nonvascular plants make food harder to get to, or even destroy food sources\n",
    "        # since nonvascular plants and vascular plants have no significance.\n",
    "        \n",
    "# its also possible to start seeing new patters, \n",
    "# such as; Does a higer amount of carnivores in a certan park have a significance with the herbivores? \n",
    "\n",
    "# In the above case, we can problary see if some (for example) carnivorus mammals have significanse with \n",
    "# other species, even if mammals as a whole does not.\n",
    "\n",
    "# after these questions have been awnsered, making findings about where efforts are best put to\n",
    "# increase biodiversity in the parks can be easier to find. \n",
    "\n",
    "# In case x actively hunts y to near extinction, importing a species that actively hunts x might be the best idea to save y.\n",
    "\n",
    "# However, this is far outside the scope of this project. Due the incredible amount of time it would take to\n",
    "# even accuratly label species carnivores, herbivores or omnivores. rather than going into prefered food in those categories.\n",
    "# And generalisation is guesswork at best.\n"
   ]
  },
  {
   "cell_type": "code",
   "execution_count": 21,
   "metadata": {
    "scrolled": false
   },
   "outputs": [
    {
     "data": {
      "image/png": "[encoded data removed]",
      "text/plain": [
       "<Figure size 1080x720 with 1 Axes>"
      ]
     },
     "metadata": {},
     "output_type": "display_data"
    }
   ],
   "source": [
    "# I will be fully honnest. While this does give useful information about the distribution of species that does not\n",
    "# require any intervention. I left it here as an easter egg, because it looks kind of like a buttplug.\n",
    "\n",
    "# I simply want to see if humor drives up engagement\n",
    "\n",
    "\n",
    "f, ax = plt.subplots(figsize=(15, 10))\n",
    "ax = sns.violinplot(data=no_inter, y='no_intervention')\n"
   ]
  }
 ],
 "metadata": {
  "kernelspec": {
   "display_name": "Python 3",
   "language": "python",
   "name": "python3"
  },
  "language_info": {
   "codemirror_mode": {
    "name": "ipython",
    "version": 3
   },
   "file_extension": ".py",
   "mimetype": "text/x-python",
   "name": "python",
   "nbconvert_exporter": "python",
   "pygments_lexer": "ipython3",
   "version": "3.6.5"
  }
 },
 "nbformat": 4,
 "nbformat_minor": 4
}
